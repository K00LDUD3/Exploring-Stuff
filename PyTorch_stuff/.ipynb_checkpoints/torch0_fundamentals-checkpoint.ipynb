{
 "cells": [
  {
   "cell_type": "code",
   "execution_count": 60,
   "id": "ecb2781d-452f-4135-b707-27b9432a8edc",
   "metadata": {
    "scrolled": true
   },
   "outputs": [
    {
     "name": "stdout",
     "output_type": "stream",
     "text": [
      "Collecting matplotlib\n",
      "  Downloading matplotlib-3.10.0-cp311-cp311-win_amd64.whl.metadata (11 kB)\n",
      "Collecting contourpy>=1.0.1 (from matplotlib)\n",
      "  Downloading contourpy-1.3.1-cp311-cp311-win_amd64.whl.metadata (5.4 kB)\n",
      "Collecting cycler>=0.10 (from matplotlib)\n",
      "  Using cached cycler-0.12.1-py3-none-any.whl.metadata (3.8 kB)\n",
      "Collecting fonttools>=4.22.0 (from matplotlib)\n",
      "  Downloading fonttools-4.55.3-cp311-cp311-win_amd64.whl.metadata (168 kB)\n",
      "Collecting kiwisolver>=1.3.1 (from matplotlib)\n",
      "  Downloading kiwisolver-1.4.7-cp311-cp311-win_amd64.whl.metadata (6.4 kB)\n",
      "Requirement already satisfied: numpy>=1.23 in c:\\users\\91748\\.conda\\envs\\ml_stuff\\lib\\site-packages (from matplotlib) (1.26.3)\n",
      "Requirement already satisfied: packaging>=20.0 in c:\\users\\91748\\.conda\\envs\\ml_stuff\\lib\\site-packages (from matplotlib) (24.1)\n",
      "Requirement already satisfied: pillow>=8 in c:\\users\\91748\\.conda\\envs\\ml_stuff\\lib\\site-packages (from matplotlib) (10.2.0)\n",
      "Collecting pyparsing>=2.3.1 (from matplotlib)\n",
      "  Downloading pyparsing-3.2.0-py3-none-any.whl.metadata (5.0 kB)\n",
      "Requirement already satisfied: python-dateutil>=2.7 in c:\\users\\91748\\.conda\\envs\\ml_stuff\\lib\\site-packages (from matplotlib) (2.9.0.post0)\n",
      "Requirement already satisfied: six>=1.5 in c:\\users\\91748\\.conda\\envs\\ml_stuff\\lib\\site-packages (from python-dateutil>=2.7->matplotlib) (1.16.0)\n",
      "Downloading matplotlib-3.10.0-cp311-cp311-win_amd64.whl (8.0 MB)\n",
      "   ---------------------------------------- 0.0/8.0 MB ? eta -:--:--\n",
      "   ------------------- -------------------- 3.9/8.0 MB 19.5 MB/s eta 0:00:01\n",
      "   ---------------------------------------  7.9/8.0 MB 20.3 MB/s eta 0:00:01\n",
      "   ---------------------------------------- 8.0/8.0 MB 19.9 MB/s eta 0:00:00\n",
      "Downloading contourpy-1.3.1-cp311-cp311-win_amd64.whl (219 kB)\n",
      "Using cached cycler-0.12.1-py3-none-any.whl (8.3 kB)\n",
      "Downloading fonttools-4.55.3-cp311-cp311-win_amd64.whl (2.2 MB)\n",
      "   ---------------------------------------- 0.0/2.2 MB ? eta -:--:--\n",
      "   ---------------------------------------- 2.2/2.2 MB 24.8 MB/s eta 0:00:00\n",
      "Downloading kiwisolver-1.4.7-cp311-cp311-win_amd64.whl (56 kB)\n",
      "Downloading pyparsing-3.2.0-py3-none-any.whl (106 kB)\n",
      "Installing collected packages: pyparsing, kiwisolver, fonttools, cycler, contourpy, matplotlib\n",
      "Successfully installed contourpy-1.3.1 cycler-0.12.1 fonttools-4.55.3 kiwisolver-1.4.7 matplotlib-3.10.0 pyparsing-3.2.0\n"
     ]
    }
   ],
   "source": [
    "!pip install matplotlib"
   ]
  },
  {
   "cell_type": "code",
   "execution_count": 288,
   "id": "f0c2917c-3db8-4e27-b134-c34fafcbc747",
   "metadata": {},
   "outputs": [],
   "source": [
    "import torch\n",
    "import numpy as np\n",
    "import math\n",
    "import matplotlib.pyplot as plt\n",
    "import time"
   ]
  },
  {
   "cell_type": "code",
   "execution_count": 289,
   "id": "30cb5ce3-b356-49f6-8c1a-542a8170337e",
   "metadata": {},
   "outputs": [],
   "source": [
    "from torch import nn"
   ]
  },
  {
   "cell_type": "code",
   "execution_count": 290,
   "id": "66a28b67-5100-467f-813a-51b27c75c00c",
   "metadata": {},
   "outputs": [
    {
     "data": {
      "text/plain": [
       "<torch._C.Generator at 0x2c1fd7b1cd0>"
      ]
     },
     "execution_count": 290,
     "metadata": {},
     "output_type": "execute_result"
    }
   ],
   "source": [
    "torch.manual_seed(24)"
   ]
  },
  {
   "cell_type": "code",
   "execution_count": 291,
   "id": "5d7decfe-269e-4310-8aca-b0028bf5be85",
   "metadata": {},
   "outputs": [
    {
     "data": {
      "text/plain": [
       "'2.5.1+cu118'"
      ]
     },
     "execution_count": 291,
     "metadata": {},
     "output_type": "execute_result"
    }
   ],
   "source": [
    "torch.__version__"
   ]
  },
  {
   "cell_type": "code",
   "execution_count": 292,
   "id": "d749ac88-cb3e-4f41-a914-b7198b1e327d",
   "metadata": {},
   "outputs": [],
   "source": [
    "DEVICE = 'cuda' if torch.cuda.is_available() else 'cpu'"
   ]
  },
  {
   "cell_type": "code",
   "execution_count": 293,
   "id": "cb765a52-3fac-4062-9448-1de294bb3b8e",
   "metadata": {},
   "outputs": [],
   "source": [
    "start = 0\n",
    "end = 10\n",
    "step = 0.1\n",
    "weight = 0.3\n",
    "bias = 0.9\n",
    "X = torch.arange(start, end, step, device=DEVICE).unsqueeze(dim=1)\n",
    "y = weight * X + bias"
   ]
  },
  {
   "cell_type": "code",
   "execution_count": 294,
   "id": "fad2de35-805d-411a-a698-10735e0b31bf",
   "metadata": {},
   "outputs": [
    {
     "data": {
      "text/plain": [
       "torch.Size([100, 1])"
      ]
     },
     "execution_count": 294,
     "metadata": {},
     "output_type": "execute_result"
    }
   ],
   "source": [
    "X.shape"
   ]
  },
  {
   "cell_type": "code",
   "execution_count": 295,
   "id": "170a926b-48d5-46d3-aef1-4edd4c720e5f",
   "metadata": {},
   "outputs": [
    {
     "data": {
      "text/plain": [
       "(torch.Size([80, 1]),\n",
       " torch.Size([80, 1]),\n",
       " torch.Size([20, 1]),\n",
       " torch.Size([20, 1]))"
      ]
     },
     "execution_count": 295,
     "metadata": {},
     "output_type": "execute_result"
    }
   ],
   "source": [
    "split = int(0.8*len(X))\n",
    "X_train = X[:split]\n",
    "y_train = y[:split]\n",
    "X_test = X[split:]\n",
    "y_test = y[split:]\n",
    "X_train.shape, y_train.shape, X_test.shape, y_test.shape"
   ]
  },
  {
   "cell_type": "code",
   "execution_count": 296,
   "id": "ba4fe725-0060-459d-b217-f3ad44729864",
   "metadata": {},
   "outputs": [
    {
     "data": {
      "image/png": "[encoded data removed]",
      "text/plain": [
       "<Figure size 1000x700 with 1 Axes>"
      ]
     },
     "metadata": {},
     "output_type": "display_data"
    }
   ],
   "source": [
    "def plot_predictions(train_data = X_train, train_labels = y_train, test_data = X_test, test_labels = y_test, predictions = None):\n",
    "    train_data = train_data.cpu()\n",
    "    train_labels = train_labels.cpu()\n",
    "    test_data = test_data.cpu()\n",
    "    test_labels = test_labels.cpu()\n",
    "    plt.figure(figsize=(10,7))\n",
    "\n",
    "    plt.scatter(test_data, test_labels, c='r', s=4, label=\"Test Data\")\n",
    "    plt.scatter(train_data, train_labels, c='b', s=1, label=\"Train Data\")\n",
    "\n",
    "    if predictions is not None:\n",
    "        predictions = predictions.cpu()\n",
    "        plt.scatter(test_data, predictions, c='g', s=4, label=\"Predictions\")\n",
    "\n",
    "    plt.legend()\n",
    "plot_predictions()\n",
    "                    "
   ]
  },
  {
   "cell_type": "code",
   "execution_count": 297,
   "id": "9454321c-0e10-4cdf-a1c9-ea67c901041c",
   "metadata": {},
   "outputs": [],
   "source": [
    "class LinearRegression(nn.Module):\n",
    "    def __init__(self):\n",
    "        super().__init__()\n",
    "        self.weight = nn.Parameter(torch.randn(1,dtype=torch.float, device=DEVICE), requires_grad=True)\n",
    "        \n",
    "        self.bias = nn.Parameter(torch.randn(1,dtype=torch.float, device=DEVICE), requires_grad=True)\n",
    "\n",
    "    def forward(self, x):\n",
    "        return self.weight * x + self.bias"
   ]
  },
  {
   "cell_type": "code",
   "execution_count": 298,
   "id": "8003fc6c-36fb-4a06-9266-ed1fbdfb386a",
   "metadata": {},
   "outputs": [],
   "source": [
    "model = LinearRegression()"
   ]
  },
  {
   "cell_type": "code",
   "execution_count": 299,
   "id": "67e7e57a-4212-4ce1-a1d5-80e8ce6c6258",
   "metadata": {},
   "outputs": [
    {
     "data": {
      "text/plain": [
       "OrderedDict([('weight', tensor([0.2462], device='cuda:0')),\n",
       "             ('bias', tensor([0.2180], device='cuda:0'))])"
      ]
     },
     "execution_count": 299,
     "metadata": {},
     "output_type": "execute_result"
    }
   ],
   "source": [
    "model.state_dict()"
   ]
  },
  {
   "cell_type": "code",
   "execution_count": 300,
   "id": "98d4f7b2-164d-4991-8b36-322c55d23683",
   "metadata": {},
   "outputs": [
    {
     "data": {
      "image/png": "[encoded data removed]",
      "text/plain": [
       "<Figure size 1000x700 with 1 Axes>"
      ]
     },
     "metadata": {},
     "output_type": "display_data"
    }
   ],
   "source": [
    "with torch.inference_mode():\n",
    "    y_pred = model.forward(X_test)\n",
    "plot_predictions(predictions=y_pred)"
   ]
  },
  {
   "cell_type": "code",
   "execution_count": 301,
   "id": "61b6ddc1-3ff2-49a6-be2f-5538c8f1aaed",
   "metadata": {},
   "outputs": [],
   "source": [
    "mse = nn.MSELoss()\n",
    "\n",
    "optimizer = torch.optim.SGD(params=model.parameters(), lr = 0.01)"
   ]
  },
  {
   "cell_type": "code",
   "execution_count": 302,
   "id": "88a520f8-f3d6-43f0-baeb-0070da3e3cb8",
   "metadata": {},
   "outputs": [
    {
     "name": "stdout",
     "output_type": "stream",
     "text": [
      "Epoch 0 | MSE Train Loss: 0.8154045939445496\n",
      "Epoch 10 | MSE Train Loss: 0.09698349237442017\n",
      "Epoch 20 | MSE Train Loss: 0.08787103742361069\n",
      "Epoch 30 | MSE Train Loss: 0.07962147146463394\n",
      "Epoch 40 | MSE Train Loss: 0.07214637845754623\n",
      "Epoch 50 | MSE Train Loss: 0.06537306308746338\n",
      "Epoch 60 | MSE Train Loss: 0.05923566222190857\n",
      "Epoch 70 | MSE Train Loss: 0.05367445573210716\n",
      "Epoch 80 | MSE Train Loss: 0.0486353300511837\n",
      "Epoch 90 | MSE Train Loss: 0.044069305062294006\n",
      "Epoch 100 | MSE Train Loss: 0.03993194177746773\n",
      "Epoch 110 | MSE Train Loss: 0.03618299961090088\n",
      "Epoch 120 | MSE Train Loss: 0.032786011695861816\n",
      "Epoch 130 | MSE Train Loss: 0.029707957059144974\n",
      "Epoch 140 | MSE Train Loss: 0.02691887691617012\n",
      "Epoch 150 | MSE Train Loss: 0.02439165487885475\n",
      "Epoch 160 | MSE Train Loss: 0.022101689130067825\n",
      "Epoch 170 | MSE Train Loss: 0.020026711747050285\n",
      "Epoch 180 | MSE Train Loss: 0.01814655028283596\n",
      "Epoch 190 | MSE Train Loss: 0.016442885622382164\n",
      "Epoch 200 | MSE Train Loss: 0.01489918865263462\n",
      "Epoch 210 | MSE Train Loss: 0.013500402681529522\n",
      "Epoch 220 | MSE Train Loss: 0.012232952751219273\n",
      "Epoch 230 | MSE Train Loss: 0.011084497906267643\n",
      "Epoch 240 | MSE Train Loss: 0.010043862275779247\n",
      "Epoch 250 | MSE Train Loss: 0.009100905619561672\n",
      "Epoch 260 | MSE Train Loss: 0.008246476761996746\n",
      "Epoch 270 | MSE Train Loss: 0.007472275290638208\n",
      "Epoch 280 | MSE Train Loss: 0.006770753767341375\n",
      "Epoch 290 | MSE Train Loss: 0.006135099567472935\n",
      "Epoch 300 | MSE Train Loss: 0.005559112410992384\n",
      "Epoch 310 | MSE Train Loss: 0.005037207156419754\n",
      "Epoch 320 | MSE Train Loss: 0.004564301576465368\n",
      "Epoch 330 | MSE Train Loss: 0.0041357907466590405\n",
      "Epoch 340 | MSE Train Loss: 0.0037475046701729298\n",
      "Epoch 350 | MSE Train Loss: 0.003395679173991084\n",
      "Epoch 360 | MSE Train Loss: 0.0030768883880227804\n",
      "Epoch 370 | MSE Train Loss: 0.002788020996376872\n",
      "Epoch 380 | MSE Train Loss: 0.0025262730196118355\n",
      "Epoch 390 | MSE Train Loss: 0.0022891012486070395\n",
      "Epoch 400 | MSE Train Loss: 0.00207419297657907\n",
      "Epoch 410 | MSE Train Loss: 0.0018794614588841796\n",
      "Epoch 420 | MSE Train Loss: 0.0017030108720064163\n",
      "Epoch 430 | MSE Train Loss: 0.001543128862977028\n",
      "Epoch 440 | MSE Train Loss: 0.0013982534874230623\n",
      "Epoch 450 | MSE Train Loss: 0.0012669805437326431\n",
      "Epoch 460 | MSE Train Loss: 0.0011480319080874324\n",
      "Epoch 470 | MSE Train Loss: 0.0010402521584182978\n",
      "Epoch 480 | MSE Train Loss: 0.0009425903554074466\n",
      "Epoch 490 | MSE Train Loss: 0.000854099343996495\n",
      "Epoch 500 | MSE Train Loss: 0.0007739149150438607\n",
      "Epoch 510 | MSE Train Loss: 0.0007012559217400849\n",
      "Epoch 520 | MSE Train Loss: 0.0006354211363941431\n",
      "Epoch 530 | MSE Train Loss: 0.0005757655599154532\n",
      "Epoch 540 | MSE Train Loss: 0.0005217129364609718\n",
      "Epoch 550 | MSE Train Loss: 0.00047273366362787783\n",
      "Epoch 560 | MSE Train Loss: 0.00042835125350393355\n",
      "Epoch 570 | MSE Train Loss: 0.00038813528954051435\n",
      "Epoch 580 | MSE Train Loss: 0.0003516967117320746\n",
      "Epoch 590 | MSE Train Loss: 0.00031867806683294475\n",
      "Epoch 600 | MSE Train Loss: 0.0002887603477574885\n",
      "Epoch 610 | MSE Train Loss: 0.0002616511192172766\n",
      "Epoch 620 | MSE Train Loss: 0.00023708604567218572\n",
      "Epoch 630 | MSE Train Loss: 0.00021482874581124634\n",
      "Epoch 640 | MSE Train Loss: 0.00019465929653961211\n",
      "Epoch 650 | MSE Train Loss: 0.0001763825857779011\n",
      "Epoch 660 | MSE Train Loss: 0.00015982305922079831\n",
      "Epoch 670 | MSE Train Loss: 0.0001448178809368983\n",
      "Epoch 680 | MSE Train Loss: 0.00013122218661010265\n",
      "Epoch 690 | MSE Train Loss: 0.00011890171299455687\n",
      "Epoch 700 | MSE Train Loss: 0.0001077382403309457\n"
     ]
    }
   ],
   "source": [
    "epochs = 1000\n",
    "\n",
    "losses = []\n",
    "epoch = 0\n",
    "epsilon = 0.0001\n",
    "while epoch <= epochs:\n",
    "    model.train()\n",
    "\n",
    "    y_pred = model.forward(X_train)\n",
    "\n",
    "    loss = mse(y_pred, y_train)\n",
    "\n",
    "    optimizer.zero_grad()\n",
    "\n",
    "    loss.backward()\n",
    "    optimizer.step()\n",
    "\n",
    "    model.eval()\n",
    "\n",
    "\n",
    "    losses.append(loss.cpu().detach().numpy())\n",
    "    \n",
    "    if epoch % 10 == 0:\n",
    "        print(f\"Epoch {epoch} | MSE Train Loss: {losses[epoch]}\")\n",
    "\n",
    "    if loss < epsilon:\n",
    "        break\n",
    "    epoch += 1"
   ]
  },
  {
   "cell_type": "code",
   "execution_count": 303,
   "id": "da5e7d60-4b2a-44fc-9131-4fa2b3760965",
   "metadata": {
    "scrolled": true
   },
   "outputs": [
    {
     "data": {
      "text/plain": [
       "tensor(0.0002, device='cuda:0')"
      ]
     },
     "execution_count": 303,
     "metadata": {},
     "output_type": "execute_result"
    }
   ],
   "source": [
    "with torch.inference_mode():\n",
    "    y_test_pred = model.forward(X_test)\n",
    "    loss = mse(y_test_pred, y_test)\n",
    "loss"
   ]
  },
  {
   "cell_type": "code",
   "execution_count": 304,
   "id": "50759837-73f9-455e-96f3-238d9844ec14",
   "metadata": {},
   "outputs": [
    {
     "data": {
      "image/png": "[encoded data removed]",
      "text/plain": [
       "<Figure size 1000x700 with 1 Axes>"
      ]
     },
     "metadata": {},
     "output_type": "display_data"
    }
   ],
   "source": [
    "plot_predictions(predictions=y_test_pred)"
   ]
  },
  {
   "cell_type": "code",
   "execution_count": 305,
   "id": "42ccf6cc-14e4-4dc8-8989-ee340dee5ff3",
   "metadata": {},
   "outputs": [
    {
     "data": {
      "text/plain": [
       "<matplotlib.legend.Legend at 0x2c1ab00e7d0>"
      ]
     },
     "execution_count": 305,
     "metadata": {},
     "output_type": "execute_result"
    },
    {
     "data": {
      "image/png": "[encoded data removed]",
      "text/plain": [
       "<Figure size 640x480 with 1 Axes>"
      ]
     },
     "metadata": {},
     "output_type": "display_data"
    }
   ],
   "source": [
    "ZOOM = 20\n",
    "plt.plot([i for i in range(int(len(losses)/ZOOM))],losses[0:int(len(losses)/ZOOM)], label=\"Train Loss\")\n",
    "plt.title(\"Loss Curve\")\n",
    "plt.xlabel(epoch)\n",
    "plt.ylabel(\"MSE\")\n",
    "plt.legend()"
   ]
  },
  {
   "cell_type": "code",
   "execution_count": 306,
   "id": "69af1a64-8511-4209-be6c-e59c8dec97ee",
   "metadata": {},
   "outputs": [
    {
     "data": {
      "text/plain": [
       "OrderedDict([('weight', tensor([0.3038], device='cuda:0')),\n",
       "             ('bias', tensor([0.8803], device='cuda:0'))])"
      ]
     },
     "execution_count": 306,
     "metadata": {},
     "output_type": "execute_result"
    }
   ],
   "source": [
    "model.state_dict()"
   ]
  },
  {
   "cell_type": "code",
   "execution_count": 307,
   "id": "41248ed0-9f67-48a2-a980-5a025d8459ff",
   "metadata": {},
   "outputs": [],
   "source": [
    "name = \"linear_model.pth\"\n",
    "torch.save(obj=model.state_dict(), f=name)"
   ]
  },
  {
   "cell_type": "code",
   "execution_count": 308,
   "id": "109de4b7-0d8e-4af2-ac6a-68f8ef4c6487",
   "metadata": {},
   "outputs": [
    {
     "name": "stdout",
     "output_type": "stream",
     "text": [
      " Volume in drive D is Data\n",
      " Volume Serial Number is 3209-780B\n",
      "\n",
      " Directory of D:\\Exploring-Stuff\\PyTorch_stuff\n",
      "\n",
      "20-12-2024  16:28    <DIR>          .\n",
      "15-12-2024  22:15    <DIR>          ..\n",
      "20-12-2024  13:31    <DIR>          .ipynb_checkpoints\n",
      "20-12-2024  16:32             1,526 linear_model.pth\n",
      "16-12-2024  19:15             6,620 testing.ipynb\n",
      "20-12-2024  16:28            98,947 torch0_fundamentals.ipynb\n",
      "               3 File(s)        107,093 bytes\n",
      "               3 Dir(s)  433,198,161,920 bytes free\n"
     ]
    }
   ],
   "source": [
    "!dir"
   ]
  },
  {
   "cell_type": "code",
   "execution_count": 309,
   "id": "9cc3bde8-377e-464b-9057-2da22a9048c7",
   "metadata": {},
   "outputs": [
    {
     "data": {
      "text/plain": [
       "<All keys matched successfully>"
      ]
     },
     "execution_count": 309,
     "metadata": {},
     "output_type": "execute_result"
    }
   ],
   "source": [
    "load_model = LinearRegression()\n",
    "\n",
    "load_model.load_state_dict(torch.load(f=name, weights_only=True))"
   ]
  },
  {
   "cell_type": "code",
   "execution_count": 310,
   "id": "7cbbd22e-7a48-4b34-b3c8-0ac8557fa250",
   "metadata": {},
   "outputs": [
    {
     "data": {
      "text/plain": [
       "OrderedDict([('weight', tensor([0.3038], device='cuda:0')),\n",
       "             ('bias', tensor([0.8803], device='cuda:0'))])"
      ]
     },
     "execution_count": 310,
     "metadata": {},
     "output_type": "execute_result"
    }
   ],
   "source": [
    "load_model.state_dict()"
   ]
  },
  {
   "cell_type": "code",
   "execution_count": 335,
   "id": "c15823f4-6bfb-48a9-aea7-54f8dbd30e61",
   "metadata": {},
   "outputs": [
    {
     "data": {
      "text/plain": [
       "LinearRegression()"
      ]
     },
     "execution_count": 335,
     "metadata": {},
     "output_type": "execute_result"
    }
   ],
   "source": [
    "load_model.eval()"
   ]
  },
  {
   "cell_type": "code",
   "execution_count": 337,
   "id": "002809fd-91c9-4964-9dec-30ee7eaea95e",
   "metadata": {},
   "outputs": [
    {
     "data": {
      "text/plain": [
       "tensor([[True],\n",
       "        [True],\n",
       "        [True],\n",
       "        [True],\n",
       "        [True],\n",
       "        [True],\n",
       "        [True],\n",
       "        [True],\n",
       "        [True],\n",
       "        [True],\n",
       "        [True],\n",
       "        [True],\n",
       "        [True],\n",
       "        [True],\n",
       "        [True],\n",
       "        [True],\n",
       "        [True],\n",
       "        [True],\n",
       "        [True],\n",
       "        [True]], device='cuda:0')"
      ]
     },
     "execution_count": 337,
     "metadata": {},
     "output_type": "execute_result"
    }
   ],
   "source": [
    "y_loaded_test_pred = load_model.forward(X_test)\n",
    "y_loaded_test_pred == y_test_pred"
   ]
  },
  {
   "cell_type": "code",
   "execution_count": null,
   "id": "2d2d8dd4-4644-430f-a4ee-a065c168f7dd",
   "metadata": {},
   "outputs": [],
   "source": []
  }
 ],
 "metadata": {
  "kernelspec": {
   "display_name": "Python [conda env:.conda-ml_stuff]",
   "language": "python",
   "name": "conda-env-.conda-ml_stuff-py"
  },
  "language_info": {
   "codemirror_mode": {
    "name": "ipython",
    "version": 3
   },
   "file_extension": ".py",
   "mimetype": "text/x-python",
   "name": "python",
   "nbconvert_exporter": "python",
   "pygments_lexer": "ipython3",
   "version": "3.11.11"
  }
 },
 "nbformat": 4,
 "nbformat_minor": 5
}
