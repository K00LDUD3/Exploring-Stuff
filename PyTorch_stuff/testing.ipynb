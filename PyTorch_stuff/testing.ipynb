{
 "cells": [
  {
   "cell_type": "code",
   "execution_count": 1,
   "id": "39d06f04-0eb4-4ad6-8954-0f7335b06dc4",
   "metadata": {},
   "outputs": [],
   "source": [
    "import torch \n",
    "import numpy\n",
    "import math"
   ]
  },
  {
   "cell_type": "code",
   "execution_count": 9,
   "id": "1e5e89b1-f914-4709-b398-ad84f232a9e3",
   "metadata": {},
   "outputs": [
    {
     "data": {
      "text/plain": [
       "'2.5.1+cu118'"
      ]
     },
     "execution_count": 9,
     "metadata": {},
     "output_type": "execute_result"
    }
   ],
   "source": [
    "torch.__version__"
   ]
  },
  {
   "cell_type": "code",
   "execution_count": 2,
   "id": "60dc80d1-4fa9-40a8-be66-0c25183a5c46",
   "metadata": {},
   "outputs": [
    {
     "data": {
      "text/plain": [
       "True"
      ]
     },
     "execution_count": 2,
     "metadata": {},
     "output_type": "execute_result"
    }
   ],
   "source": [
    "torch.cuda.is_available()"
   ]
  },
  {
   "cell_type": "code",
   "execution_count": 3,
   "id": "c1508490-5715-4cf3-a99b-030099653736",
   "metadata": {},
   "outputs": [],
   "source": [
    "torch.set_default_device(0)"
   ]
  },
  {
   "cell_type": "code",
   "execution_count": 4,
   "id": "5f8920ab-f42d-4519-bf33-c5a376b126ce",
   "metadata": {},
   "outputs": [
    {
     "data": {
      "text/plain": [
       "0"
      ]
     },
     "execution_count": 4,
     "metadata": {},
     "output_type": "execute_result"
    }
   ],
   "source": [
    "torch.cuda.current_device()"
   ]
  },
  {
   "cell_type": "code",
   "execution_count": 134,
   "id": "64893073-e65d-4551-9531-0dbd05e0c761",
   "metadata": {},
   "outputs": [
    {
     "data": {
      "text/plain": [
       "(tensor([[1., 2., 3.]], device='cuda:0'),\n",
       " tensor([[1.],\n",
       "         [2.],\n",
       "         [3.]], device='cuda:0'))"
      ]
     },
     "execution_count": 134,
     "metadata": {},
     "output_type": "execute_result"
    }
   ],
   "source": [
    "t1 = torch.tensor([1.0,2.0,3.0], device='cuda').unsqueeze(0)\n",
    "t2 = torch.tensor([1.0,2.0,3.0], device='cuda').unsqueeze(0)\n",
    "t1, t2.T"
   ]
  },
  {
   "cell_type": "code",
   "execution_count": 138,
   "id": "a882c669-eed4-43b5-b63a-df4840bfaf6d",
   "metadata": {},
   "outputs": [
    {
     "name": "stdout",
     "output_type": "stream",
     "text": [
      "CPU times: total: 0 ns\n",
      "Wall time: 0 ns\n"
     ]
    },
    {
     "data": {
      "text/plain": [
       "tensor([[1., 2., 3.],\n",
       "        [2., 4., 6.],\n",
       "        [3., 6., 9.]], device='cuda:0')"
      ]
     },
     "execution_count": 138,
     "metadata": {},
     "output_type": "execute_result"
    }
   ],
   "source": [
    "%%time\n",
    "torch.mm(t1.T,t2)"
   ]
  },
  {
   "cell_type": "code",
   "execution_count": 144,
   "id": "c88d1145-d843-40c5-9696-e6f0ab217afb",
   "metadata": {},
   "outputs": [],
   "source": [
    "tensor_A = torch.tensor([[1, 2],\n",
    "                         [3, 4],\n",
    "                         [5, 6]], dtype=torch.float32, device='cuda')\n",
    "\n",
    "tensor_B = torch.tensor([[7, 10],\n",
    "                         [8, 11], \n",
    "                         [9, 12]], dtype=torch.float32, device='cuda')"
   ]
  },
  {
   "cell_type": "code",
   "execution_count": 146,
   "id": "0e98e252-a37b-4b25-abb4-139b671f00d3",
   "metadata": {},
   "outputs": [
    {
     "name": "stdout",
     "output_type": "stream",
     "text": [
      "Input shape: torch.Size([3, 2])\n",
      "\n",
      "Output:\n",
      "tensor([[-0.5363, -1.9687, -0.4479,  0.0994, -0.2308,  0.9655],\n",
      "        [-1.6025, -3.5562, -1.4697,  0.5017, -0.7806,  1.4306],\n",
      "        [-2.6688, -5.1438, -2.4915,  0.9040, -1.3304,  1.8956]],\n",
      "       device='cuda:0', grad_fn=<AddmmBackward0>)\n",
      "\n",
      "Output shape: torch.Size([3, 6])\n"
     ]
    }
   ],
   "source": [
    "torch.manual_seed(42)\n",
    "# This uses matrix multiplication\n",
    "linear = torch.nn.Linear(in_features=2, # in_features = matches inner dimension of input \n",
    "                         out_features=6) # out_features = describes outer value \n",
    "x = tensor_A\n",
    "output = linear(x)\n",
    "print(f\"Input shape: {x.shape}\\n\")\n",
    "print(f\"Output:\\n{output}\\n\\nOutput shape: {output.shape}\")"
   ]
  },
  {
   "cell_type": "code",
   "execution_count": 154,
   "id": "9aba364e-c9ed-425c-8cbd-a36af6fcde2f",
   "metadata": {},
   "outputs": [
    {
     "data": {
      "text/plain": [
       "Parameter containing:\n",
       "tensor([[ 0.1597, -0.6929],\n",
       "        [-0.1437, -0.6501],\n",
       "        [-0.4861, -0.0248],\n",
       "        [ 0.3341, -0.1330],\n",
       "        [ 0.0267, -0.3016],\n",
       "        [-0.3655,  0.5980]], device='cuda:0', requires_grad=True)"
      ]
     },
     "execution_count": 154,
     "metadata": {},
     "output_type": "execute_result"
    }
   ],
   "source": [
    "linear.weight"
   ]
  },
  {
   "cell_type": "code",
   "execution_count": 156,
   "id": "ba3515c9-fec6-4ad0-af94-bd9d13491f53",
   "metadata": {},
   "outputs": [
    {
     "data": {
      "text/plain": [
       "Parameter containing:\n",
       "tensor([ 0.6897, -0.5248,  0.0878,  0.0313,  0.3457,  0.1350], device='cuda:0',\n",
       "       requires_grad=True)"
      ]
     },
     "execution_count": 156,
     "metadata": {},
     "output_type": "execute_result"
    }
   ],
   "source": [
    "linear.bias"
   ]
  },
  {
   "cell_type": "code",
   "execution_count": 158,
   "id": "5d91a81f-5be4-4b90-a612-0f63f4e4017c",
   "metadata": {},
   "outputs": [
    {
     "data": {
      "text/plain": [
       "tensor([[1., 2.],\n",
       "        [3., 4.],\n",
       "        [5., 6.]], device='cuda:0')"
      ]
     },
     "execution_count": 158,
     "metadata": {},
     "output_type": "execute_result"
    }
   ],
   "source": [
    "x"
   ]
  },
  {
   "cell_type": "code",
   "execution_count": null,
   "id": "c2f1ba71-bf64-4a49-b8f9-29bfd7f6d7fd",
   "metadata": {},
   "outputs": [],
   "source": []
  }
 ],
 "metadata": {
  "kernelspec": {
   "display_name": "Python [conda env:.conda-ml_stuff]",
   "language": "python",
   "name": "conda-env-.conda-ml_stuff-py"
  },
  "language_info": {
   "codemirror_mode": {
    "name": "ipython",
    "version": 3
   },
   "file_extension": ".py",
   "mimetype": "text/x-python",
   "name": "python",
   "nbconvert_exporter": "python",
   "pygments_lexer": "ipython3",
   "version": "3.11.11"
  }
 },
 "nbformat": 4,
 "nbformat_minor": 5
}
