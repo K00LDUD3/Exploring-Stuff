{
 "cells": [
  {
   "cell_type": "code",
   "execution_count": 209,
   "metadata": {},
   "outputs": [
    {
     "data": {
      "text/plain": [
       "('2.6.0+cu118', '0.26.2', True, 'cuda')"
      ]
     },
     "execution_count": 209,
     "metadata": {},
     "output_type": "execute_result"
    }
   ],
   "source": [
    "import numpy as np\n",
    "import math\n",
    "\n",
    "import torch\n",
    "import gym\n",
    "\n",
    "from Helpers import visualize_grid\n",
    "from tqdm import tqdm\n",
    "import matplotlib.pyplot as plt\n",
    "# from numba import jit\n",
    "\n",
    "DEVICE = 'cuda' if torch.cuda.is_available() else 'cpu'\n",
    "torch.set_default_device(DEVICE)\n",
    "torch.manual_seed(24)\n",
    "\n",
    "torch.__version__, gym.__version__, torch.cuda.is_available(), DEVICE"
   ]
  },
  {
   "cell_type": "markdown",
   "metadata": {},
   "source": [
    "## Grid Environment\n",
    "### Instancing grid with size MxN, start position as (start_x, start_y)\n",
    "### Adding random obstacles \n",
    "    0: free\n",
    "    1: occupied"
   ]
  },
  {
   "cell_type": "code",
   "execution_count": 232,
   "metadata": {},
   "outputs": [
    {
     "data": {
      "image/png": "[encoded data removed]",
      "text/plain": [
       "<Figure size 500x500 with 1 Axes>"
      ]
     },
     "metadata": {},
     "output_type": "display_data"
    },
    {
     "data": {
      "text/plain": [
       "(tensor([[0, 0, 0, 0, 0, 1, 0, 1, 0, 1],\n",
       "         [0, 1, 0, 1, 0, 0, 1, 0, 0, 0],\n",
       "         [1, 0, 1, 0, 0, 0, 1, 0, 0, 0],\n",
       "         [0, 0, 0, 0, 0, 0, 1, 0, 0, 0],\n",
       "         [0, 1, 0, 0, 1, 1, 1, 0, 0, 0],\n",
       "         [0, 0, 0, 1, 0, 0, 0, 0, 0, 0],\n",
       "         [0, 0, 0, 0, 0, 0, 0, 1, 1, 0],\n",
       "         [0, 0, 1, 0, 0, 0, 0, 0, 0, 0],\n",
       "         [0, 0, 0, 0, 0, 0, 0, 0, 0, 0],\n",
       "         [1, 1, 0, 0, 1, 0, 1, 0, 0, 0]], device='cuda:0', dtype=torch.int8),\n",
       " tensor([0, 0], device='cuda:0', dtype=torch.int8),\n",
       " None)"
      ]
     },
     "execution_count": 232,
     "metadata": {},
     "output_type": "execute_result"
    }
   ],
   "source": [
    "M, N = 10,10\n",
    "start_x, start_y = 0,0\n",
    "end_x, end_y = M-1,N-1\n",
    "start = torch.tensor([start_x,start_y]).type(torch.int8)\n",
    "grid = (torch.rand((M, N)) > 0.8).type(torch.int8)\n",
    "\n",
    "#Marking start and end positions as free\n",
    "grid[start_x, start_y] = 0 \n",
    "grid[end_x, end_y] = 0\n",
    "\n",
    "grid, start, visualize_grid(grid)"
   ]
  },
  {
   "cell_type": "code",
   "execution_count": 233,
   "metadata": {
    "jp-MarkdownHeadingCollapsed": true,
    "scrolled": true
   },
   "outputs": [
    {
     "data": {
      "image/png": "[encoded data removed]",
      "text/plain": [
       "<Figure size 500x500 with 1 Axes>"
      ]
     },
     "metadata": {},
     "output_type": "display_data"
    }
   ],
   "source": [
    "visualize_grid(grid)"
   ]
  },
  {
   "cell_type": "markdown",
   "metadata": {},
   "source": [
    "### Car State"
   ]
  },
  {
   "cell_type": "code",
   "execution_count": 234,
   "metadata": {},
   "outputs": [
    {
     "data": {
      "text/plain": [
       "tensor([0, 0], device='cuda:0')"
      ]
     },
     "execution_count": 234,
     "metadata": {},
     "output_type": "execute_result"
    }
   ],
   "source": [
    "car_state = torch.tensor([start_x, start_y])\n",
    "car_state"
   ]
  },
  {
   "cell_type": "markdown",
   "metadata": {},
   "source": [
    "### Action Space"
   ]
  },
  {
   "cell_type": "code",
   "execution_count": 235,
   "metadata": {},
   "outputs": [
    {
     "data": {
      "text/plain": [
       "({'up': array([-1,  0]),\n",
       "  'down': array([1, 0]),\n",
       "  'right': array([0, 1]),\n",
       "  'left': array([ 0, -1])},\n",
       " ['up', 'down', 'right', 'left'])"
      ]
     },
     "execution_count": 235,
     "metadata": {},
     "output_type": "execute_result"
    }
   ],
   "source": [
    "action_space = {\n",
    "    \"up\":np.array([-1,0]),\n",
    "    \"down\":np.array([1,0]),\n",
    "    \"right\":np.array([0,1]),\n",
    "    \"left\":np.array([0,-1])\n",
    "}\n",
    "actions = list(action_space.keys())\n",
    "action_space, actions"
   ]
  },
  {
   "cell_type": "markdown",
   "metadata": {},
   "source": [
    "### Reward Function"
   ]
  },
  {
   "cell_type": "code",
   "execution_count": 236,
   "metadata": {},
   "outputs": [],
   "source": [
    "def ActionReward_V1(grid, car, action):\n",
    "    \"\"\"\n",
    "    Params -  \n",
    "    grid: torch tensor of M,N\n",
    "    car: torch tensor of 2,1\n",
    "    action: string belonging to any of -> up, down, left, right\n",
    "\n",
    "    Returns - \n",
    "    torch.tensor(car): tensor of shape 2,1\n",
    "    reward: integer\n",
    "    msg: string (for debugging steps)\n",
    "    \"\"\"\n",
    "    #Fetching other variables\n",
    "    global start_x, start_y, end_x, end_y, M, N, action_space, actions\n",
    "    \n",
    "    if grid.dim() != 2:\n",
    "        raise ValueError(\"Input grid must be a 2D tensor.\")\n",
    "    if car.dim() != 1:\n",
    "        raise ValueError(\"Input grid must be a 1D tensor.\")\n",
    "    # if len(action) != 2:\n",
    "        # raise ValueError(\"Input grid must be an array of length 2\")\n",
    "    if action not in actions:\n",
    "        raise ValueError(f\"Action must be one of: {list(action_space.keys())}\")\n",
    "\n",
    "    #Getting ordered action value from action space \n",
    "    action_value = action_space[action]\n",
    "    \n",
    "    # Initializing/converting required variables\n",
    "    grid = grid.cpu()\n",
    "    car = car.cpu()\n",
    "    reward = -1 # Since every move is -1 to minimize steps taken\n",
    "    msg = \"BLANK Hit\"\n",
    "\n",
    "    # From this point, type(CAR) = NP.ARRAY\n",
    "    car = car.numpy() + action_value\n",
    "\n",
    "    #Checking out of bounds:\n",
    "    x, y = car\n",
    "    # Check if the coordinates are out of bounds\n",
    "    if x < 0 or x >= M or y < 0 or y >= N:\n",
    "        reward += -10\n",
    "        msg = \"BOUNDS Exceeded\"\n",
    "        return torch.tensor(car-action_value, dtype=torch.int), reward, msg\n",
    "    \n",
    "    # If car has reached the final point:\n",
    "    if car[0] == end_x and car[1] == end_y:\n",
    "        reward += 10\n",
    "        msg = \"END Reached\"\n",
    "        \n",
    "    # If car hits an obstacle:\n",
    "    if grid[car[0], car[1]] == 1:\n",
    "        reward += -10\n",
    "        msg = \"OBS Hit\"\n",
    "        return torch.tensor(car - action_value, dtype=torch.int), reward, msg\n",
    "        \n",
    "    return torch.tensor(car), reward, msg\n",
    "\n",
    "def ActionReward(grid, car, action):\n",
    "    \"\"\"\n",
    "    Params -  \n",
    "    grid: torch tensor of MxN\n",
    "    car: torch tensor of shape (2,)\n",
    "    action: string, one of -> \"up\", \"down\", \"left\", \"right\"\n",
    "\n",
    "    Returns - \n",
    "    torch.tensor(car): Updated car position (2,)\n",
    "    reward: Integer reward for the action\n",
    "    msg: String (for debugging steps)\n",
    "    \"\"\"\n",
    "    global start_x, start_y, end_x, end_y, M, N, action_space, actions\n",
    "\n",
    "    # Input validation\n",
    "    if grid.dim() != 2:\n",
    "        raise ValueError(\"Grid must be a 2D tensor.\")\n",
    "    if car.dim() != 1 or car.shape[0] != 2:\n",
    "        raise ValueError(\"Car state must be a 1D tensor of shape (2,).\")\n",
    "    if action not in actions:\n",
    "        raise ValueError(f\"Invalid action: {action}\")\n",
    "\n",
    "    # Get action offset\n",
    "    action_value = torch.tensor(action_space[action])\n",
    "\n",
    "    # Apply action\n",
    "    new_car = car + action_value\n",
    "    x, y = new_car.tolist()\n",
    "\n",
    "    # Default reward\n",
    "    reward = -1  # Encourage minimal steps\n",
    "    msg = \"BLANK Move\"\n",
    "\n",
    "    # Check out-of-bounds\n",
    "    if x < 0 or x >= M or y < 0 or y >= N:\n",
    "        reward -= 10\n",
    "        msg = \"BOUNDS Exceeded\"\n",
    "        return car, reward, msg  # Stay in place\n",
    "\n",
    "    # If car reaches the goal\n",
    "    if x == end_x and y == end_y:\n",
    "        reward += 10\n",
    "        msg = \"END Reached\"\n",
    "\n",
    "    # If car hits an obstacle\n",
    "    elif grid[x, y] == 1:\n",
    "        reward -= 50\n",
    "        msg = \"OBS Hit\"\n",
    "        return car, reward, msg  # Stay in place\n",
    "\n",
    "    return torch.tensor([x, y]), reward, msg\n",
    "# car_state_updated, reward, msg = ActionReward(grid, car_state, \"right\")\n",
    "# car_state_updated, reward, msg"
   ]
  },
  {
   "cell_type": "markdown",
   "metadata": {},
   "source": [
    "### Q-Table (MxNx4)\n",
    "One value per state-action pair"
   ]
  },
  {
   "cell_type": "code",
   "execution_count": 237,
   "metadata": {},
   "outputs": [],
   "source": [
    "Q = torch.zeros((M,N,4)) #M = 10, N = 4, GRID is a torch tensor of MxN\n",
    "gamma = 0.7 #Discount Factor\n",
    "alpha = 0.1 #Learning rate\n",
    "epsilon = 0.1 # P(exploring) or 1-P(Exploiting)\n",
    "num_episodes = 500"
   ]
  },
  {
   "cell_type": "markdown",
   "metadata": {},
   "source": [
    "### Updating Q-Table"
   ]
  },
  {
   "cell_type": "code",
   "execution_count": 238,
   "metadata": {},
   "outputs": [
    {
     "name": "stderr",
     "output_type": "stream",
     "text": [
      "100%|████████████████████████████████████████████████████████████████████████████████| 500/500 [01:05<00:00,  7.58it/s]\n"
     ]
    }
   ],
   "source": [
    "rewards = []\n",
    "for episode in tqdm(range(num_episodes)):\n",
    "    car_state = torch.tensor([start_x, start_y])  # Reset agent to start\n",
    "    done = False\n",
    "\n",
    "    rewards.append(0)\n",
    "    while not done:\n",
    "        x, y = car_state.tolist()\n",
    "\n",
    "        # Choose action using ε-greedy strategy\n",
    "        valid_actions = [a for a in actions if ActionReward(grid, car_state, a)[0].tolist() != car_state.tolist()]\n",
    "\n",
    "        # Choose action using ε-greedy strategy\n",
    "        if np.random.rand() < epsilon and valid_actions:\n",
    "            action = np.random.choice(valid_actions)  # Explore only valid moves\n",
    "        else:\n",
    "            action = actions[torch.argmax(Q[x, y]).item()]  # Exploit\n",
    "\n",
    "        # Take action\n",
    "        new_car, reward, msg = ActionReward(grid, car_state, action)\n",
    "        new_x, new_y = new_car.tolist()\n",
    "        action_idx = actions.index(action)\n",
    "\n",
    "        # Check bounds before updating Q-table\n",
    "        if (new_x, new_y) != (x, y):  # If movement is valid\n",
    "            best_future_q = torch.max(Q[new_x, new_y]).item()\n",
    "        else:\n",
    "            best_future_q = 0\n",
    "\n",
    "        # Q-learning update\n",
    "        Q[x, y, action_idx] += alpha * (reward + gamma * best_future_q - Q[x, y, action_idx])\n",
    "        rewards[episode] += reward  # Track total reward\n",
    "\n",
    "        # Update agent position\n",
    "        car_state = new_car\n",
    "\n",
    "        # End episode if goal is reached or car hits an obstacle\n",
    "        if car_state[0] == end_x and car_state[1] == end_y:\n",
    "            done = True\n",
    "\n",
    "    # Reduce exploration over time\n",
    "    epsilon *= 0.99\n",
    "\n"
   ]
  },
  {
   "cell_type": "code",
   "execution_count": 239,
   "metadata": {},
   "outputs": [
    {
     "data": {
      "image/png": "[encoded data removed]",
      "text/plain": [
       "<Figure size 800x500 with 1 Axes>"
      ]
     },
     "metadata": {},
     "output_type": "display_data"
    }
   ],
   "source": [
    "def plot_simple(array, title=\"Values vs Indices\", xlabel=\"Index\", ylabel=\"Value\"):\n",
    "    \"\"\"\n",
    "    Plots the values of a 1D array against their indices.\n",
    "\n",
    "    :param array: A 1D array (list, NumPy array, or PyTorch tensor).\n",
    "    :param title: Title of the plot (default: \"Values vs Indices\").\n",
    "    :param xlabel: Label for the x-axis (default: \"Index\").\n",
    "    :param ylabel: Label for the y-axis (default: \"Value\").\n",
    "    \"\"\"\n",
    "    # Convert the array to a NumPy array if it's a PyTorch tensor\n",
    "    if hasattr(array, 'numpy'):  # Check if it's a PyTorch tensor\n",
    "        array = array.numpy()\n",
    "    elif not isinstance(array, (list, np.ndarray)):  # Ensure it's a list or NumPy array\n",
    "        raise ValueError(\"Input must be a list, NumPy array, or PyTorch tensor.\")\n",
    "\n",
    "    # Create the plot\n",
    "    plt.figure(figsize=(8, 5))  # Set the figure size\n",
    "    plt.plot(array, marker='o', linestyle='-', color='b')  # Plot the values\n",
    "    plt.title(title)  # Add a title\n",
    "    plt.xlabel(xlabel)  # Add an x-axis label\n",
    "    plt.ylabel(ylabel)  # Add a y-axis label\n",
    "    plt.grid(True)  # Add a grid for better readability\n",
    "\n",
    "    # Show the plot\n",
    "    plt.show()\n",
    "plot_simple(rewards)"
   ]
  },
  {
   "cell_type": "code",
   "execution_count": 261,
   "metadata": {},
   "outputs": [
    {
     "data": {
      "text/plain": [
       "('left', tensor([-5.1000, -3.2859, -5.1000, -3.2858], device='cuda:0'))"
      ]
     },
     "execution_count": 261,
     "metadata": {},
     "output_type": "execute_result"
    }
   ],
   "source": [
    "x,y =1,5\n",
    "actions[torch.argmax(Q[x,y])], Q[x,y]"
   ]
  },
  {
   "cell_type": "code",
   "execution_count": 240,
   "metadata": {},
   "outputs": [
    {
     "data": {
      "image/png": "[encoded data removed]",
      "text/plain": [
       "<Figure size 500x500 with 1 Axes>"
      ]
     },
     "metadata": {},
     "output_type": "display_data"
    }
   ],
   "source": [
    "visualize_grid(grid)"
   ]
  },
  {
   "cell_type": "code",
   "execution_count": 241,
   "metadata": {
    "scrolled": true
   },
   "outputs": [
    {
     "data": {
      "text/plain": [
       "tensor([[0, 0, 0, 0, 0, 1, 0, 1, 0, 1],\n",
       "        [0, 1, 0, 1, 0, 0, 1, 0, 0, 0],\n",
       "        [1, 0, 1, 0, 0, 0, 1, 0, 0, 0],\n",
       "        [0, 0, 0, 0, 0, 0, 1, 0, 0, 0],\n",
       "        [0, 1, 0, 0, 1, 1, 1, 0, 0, 0],\n",
       "        [0, 0, 0, 1, 0, 0, 0, 0, 0, 0],\n",
       "        [0, 0, 0, 0, 0, 0, 0, 1, 1, 0],\n",
       "        [0, 0, 1, 0, 0, 0, 0, 0, 0, 0],\n",
       "        [0, 0, 0, 0, 0, 0, 0, 0, 0, 0],\n",
       "        [1, 1, 0, 0, 1, 0, 1, 0, 0, 0]], device='cuda:0', dtype=torch.int8)"
      ]
     },
     "execution_count": 241,
     "metadata": {},
     "output_type": "execute_result"
    }
   ],
   "source": [
    "grid"
   ]
  },
  {
   "cell_type": "code",
   "execution_count": 185,
   "metadata": {},
   "outputs": [
    {
     "data": {
      "text/plain": [
       "tensor([[[-2.9810, -0.8882,  0.8970, -5.1541],\n",
       "         [-0.5639, -0.5522,  1.5788, -2.9810],\n",
       "         [-0.5576, -1.1000, -1.1000, -1.1000]],\n",
       "\n",
       "        [[-2.9810,  2.7100, -2.9810, -0.5452],\n",
       "         [ 0.0847, -3.7829,  5.3000, -0.3340],\n",
       "         [ 0.0000,  0.0000,  0.0000,  0.0000]],\n",
       "\n",
       "        [[ 0.0000,  0.0000,  0.0000,  0.0000],\n",
       "         [-5.1541,  9.0000,  0.0000,  0.5115],\n",
       "         [ 0.0000,  0.0000,  0.0000,  0.0000]]], device='cuda:0')"
      ]
     },
     "execution_count": 185,
     "metadata": {},
     "output_type": "execute_result"
    }
   ],
   "source": [
    "Q"
   ]
  },
  {
   "cell_type": "code",
   "execution_count": null,
   "metadata": {},
   "outputs": [],
   "source": [
    "grid"
   ]
  }
 ],
 "metadata": {
  "kernelspec": {
   "display_name": "Python 3 (ipykernel)",
   "language": "python",
   "name": "python3"
  },
  "language_info": {
   "codemirror_mode": {
    "name": "ipython",
    "version": 3
   },
   "file_extension": ".py",
   "mimetype": "text/x-python",
   "name": "python",
   "nbconvert_exporter": "python",
   "pygments_lexer": "ipython3",
   "version": "3.11.9"
  }
 },
 "nbformat": 4,
 "nbformat_minor": 4
}
